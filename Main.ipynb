{
 "cells": [
  {
   "cell_type": "code",
   "execution_count": 14,
   "metadata": {},
   "outputs": [],
   "source": [
    "import numpy as np\n",
    "from scipy.io import loadmat\n",
    "\n",
    "data_3factors = loadmat('Data_3factors.mat')\n",
    "data_active = loadmat('Data_active.mat')\n",
    "\n",
    "factors = np.column_stack([data_3factors['MKTRF'].flatten(), data_3factors['SMB'].flatten(), data_3factors['HML'].flatten()]) / 100\n",
    "\n",
    "active_data = np.column_stack([data_active['BEN'].flatten(), data_active['BLK'].flatten(), data_active['BWG'].flatten(), data_active['BX'].flatten(), data_active['FHI'].flatten(), data_active['SEIC'].flatten(), data_active['VGT'].flatten()])\n",
    "\n",
    "returns_SPX = np.diff(np.log(data_3factors['SPX'].flatten()))\n",
    "returns_active = np.diff(np.log(active_data), axis=0)"
   ]
  },
  {
   "cell_type": "code",
   "execution_count": 15,
   "metadata": {},
   "outputs": [],
   "source": [
    "n_rows = min(len(returns_active), len(factors), len(returns_SPX))\n",
    "factors = factors[:n_rows]\n",
    "returns_active = returns_active[:n_rows]\n",
    "returns_SPX = returns_SPX[:n_rows]"
   ]
  },
  {
   "cell_type": "code",
   "execution_count": null,
   "metadata": {},
   "outputs": [],
   "source": [
    "import statsmodels.api as sm\n",
    "from statsmodels.api import OLS\n",
    "\n",
    "y = returns_SPX\n",
    "X1 = np.hstack([np.ones((n_rows, 1)), returns_active])\n",
    "\n",
    "# Model 1\n",
    "model1 = OLS(y, X1).fit()\n",
    "R2_1 = model1.rsquared\n",
    "adjusted_R2_1 = model1.rsquared_adj\n",
    "\n",
    "# Model 2\n",
    "X2 = np.hstack([np.ones((n_rows, 1)), returns_active, factors[:, 1:], factors[:, 2:]])\n",
    "model2 = OLS(y, X2).fit()\n",
    "R2_2 = model2.rsquared\n",
    "adjusted_R2_2 = model2.rsquared_adj\n",
    "\n",
    "print(model1.summary())"
   ]
  },
  {
   "cell_type": "code",
   "execution_count": 17,
   "metadata": {},
   "outputs": [],
   "source": [
    "from sklearn.metrics import mean_squared_error\n",
    "\n",
    "# In-sample and out-of-sample split\n",
    "split_index = int(n_rows * 0.8)\n",
    "X_in1, X_out1 = X1[:split_index], X1[split_index:]\n",
    "y_in1, y_out1 = y[:split_index], y[split_index:]\n",
    "X_in2, X_out2 = X2[:split_index], X2[split_index:]\n",
    "y_in2, y_out2 = y[:split_index], y[split_index:]\n",
    "\n",
    "# Out-of-sample predictions\n",
    "model_in1 = OLS(y_in1, X_in1).fit()\n",
    "y_fitted1 = model_in1.predict(X_out1)\n",
    "MSE1 = mean_squared_error(y_out1, y_fitted1)\n",
    "\n",
    "model_in2 = OLS(y_in2, X_in2).fit()\n",
    "y_fitted2 = model_in2.predict(X_out2)\n",
    "MSE2 = mean_squared_error(y_out2, y_fitted2)"
   ]
  },
  {
   "cell_type": "code",
   "execution_count": 18,
   "metadata": {},
   "outputs": [],
   "source": [
    "# Random Forest model\n",
    "\n",
    "from sklearn.ensemble import RandomForestRegressor\n",
    "\n",
    "rf_model = RandomForestRegressor(n_estimators=16, random_state=42)\n",
    "rf_model.fit(X_in1, y_in1)\n",
    "y_pred_rf = rf_model.predict(X_out1)\n",
    "MSE_RF = mean_squared_error(y_out1, y_pred_rf)"
   ]
  },
  {
   "cell_type": "code",
   "execution_count": null,
   "metadata": {},
   "outputs": [],
   "source": [
    "# Feedforward Neural Network model and Hyperparameter Tuning\n",
    "\n",
    "from sklearn.model_selection import GridSearchCV\n",
    "from sklearn.neural_network import MLPRegressor\n",
    "from sklearn.metrics import mean_squared_error\n",
    "\n",
    "param_grid = {\n",
    "    'hidden_layer_sizes': [(10,), (20,), (10, 10), (10, 8), (20, 10, 5)],\n",
    "    'activation': ['relu', 'tanh'],\n",
    "    'solver': ['adam', 'sgd'],\n",
    "    'learning_rate_init': [0.001, 0.01, 0.1],\n",
    "    'max_iter': [500, 1000]\n",
    "}\n",
    "\n",
    "nn_model = MLPRegressor(random_state=77)\n",
    "\n",
    "grid_search = GridSearchCV(estimator=nn_model, param_grid=param_grid, \n",
    "                           scoring='neg_mean_squared_error', cv=5, verbose=2, n_jobs=-1)\n",
    "\n",
    "grid_search.fit(X_in2, y_in2)\n",
    "\n",
    "best_params = grid_search.best_params_\n",
    "best_model = grid_search.best_estimator_\n",
    "\n",
    "y_pred_nn = best_model.predict(X_out2)\n",
    "MSE_NN = mean_squared_error(y_out2, y_pred_nn)\n",
    "\n",
    "print(\"Best Parameters:\", best_params)\n",
    "print(\"MSE for the Best Neural Network Model:\", MSE_NN)\n"
   ]
  },
  {
   "cell_type": "code",
   "execution_count": 20,
   "metadata": {},
   "outputs": [],
   "source": [
    "# Diebold-Mariano test\n",
    "\n",
    "from scipy.stats import ttest_rel\n",
    "\n",
    "dm_stat_rf, p_value_rf = ttest_rel(y_out2, y_pred_rf)\n",
    "dm_stat_nn, p_value_nn = ttest_rel(y_out2, y_pred_nn)"
   ]
  },
  {
   "cell_type": "code",
   "execution_count": 21,
   "metadata": {},
   "outputs": [],
   "source": [
    "# Fluctuation test (Giacomini-Rossi)\n",
    "\n",
    "from statsmodels.tsa.stattools import adfuller\n",
    "\n",
    "def fluctuation_test_alternative(errors, critical_value=1.96):\n",
    "    adf_stat, p_value, _, _, _, _ = adfuller(errors, autolag=\"AIC\")\n",
    "    fluctuation_detected = adf_stat > critical_value\n",
    "    return adf_stat, p_value, fluctuation_detected\n",
    "\n",
    "forecast_errors_nn = y_out2 - y_pred_nn\n",
    "forecast_errors_rf = y_out1 - y_pred_rf\n",
    "forecast_errors_model2 = y_out2 - y_fitted2\n",
    "\n",
    "adf_nn_stat, adf_nn_p_value, nn_fluctuation = fluctuation_test_alternative(forecast_errors_nn)\n",
    "adf_rf_stat, adf_rf_p_value, rf_fluctuation = fluctuation_test_alternative(forecast_errors_rf)\n",
    "adf_model2_stat, adf_model2_p_value, model2_fluctuation = fluctuation_test_alternative(forecast_errors_model2)\n",
    "\n",
    "fluctuation_alternative_results = {\"ADF_Stat_NN\": adf_nn_stat, \"P_Value_NN\": adf_nn_p_value, \"Fluctuation_Detected_NN\": nn_fluctuation, \"ADF_Stat_RF\": adf_rf_stat, \"P_Value_RF\": adf_rf_p_value, \"Fluctuation_Detected_RF\": rf_fluctuation, \"ADF_Stat_Model2\": adf_model2_stat, \"P_Value_Model2\": adf_model2_p_value, \"Fluctuation_Detected_Model2\": model2_fluctuation}"
   ]
  },
  {
   "cell_type": "code",
   "execution_count": null,
   "metadata": {},
   "outputs": [],
   "source": [
    "# Figures\n",
    "\n",
    "import matplotlib.pyplot as plt\n",
    "\n",
    "# Figure 1: Out-of-Sample Predictions: Random Forest\n",
    "plt.figure()\n",
    "plt.plot(y_out1, 'k', linewidth=2, label='Actual')\n",
    "plt.plot(y_pred_rf, ':r', linewidth=2, label=f'RF Prediction (MSE: {MSE_RF:.4e})')\n",
    "plt.title('Out-of-Sample Predictions: Random Forest (Optimal)')\n",
    "plt.xlabel('Observation')\n",
    "plt.ylabel('Values')\n",
    "plt.legend(loc='best')\n",
    "plt.grid(True)\n",
    "plt.show()\n",
    "\n",
    "# Figure 2: Out-of-Sample Predictions: Model 1\n",
    "plt.figure()\n",
    "plt.plot(y_out1, 'k', linewidth=2, label='Actual')\n",
    "plt.plot(y_fitted1, '--b', linewidth=2, label=f'Linear Prediction (Model 1, MSE: {MSE1:.4e})')\n",
    "plt.title('Out-of-Sample Predictions: Model 1')\n",
    "plt.xlabel('Observation')\n",
    "plt.ylabel('Values')\n",
    "plt.legend(loc='best')\n",
    "plt.grid(True)\n",
    "plt.show()\n",
    "\n",
    "# Figure 3: Out-of-Sample Predictions: Model 2\n",
    "plt.figure()\n",
    "plt.plot(y_out2, 'k', linewidth=2, label='Actual')\n",
    "plt.plot(y_fitted2, '--g', linewidth=2, label=f'Linear Prediction (Model 2, MSE: {MSE2:.4e})')\n",
    "plt.title('Out-of-Sample Predictions: Model 2')\n",
    "plt.xlabel('Observation')\n",
    "plt.ylabel('Values')\n",
    "plt.legend(loc='best')\n",
    "plt.grid(True)\n",
    "plt.show()\n"
   ]
  }
 ],
 "metadata": {
  "kernelspec": {
   "display_name": "Python 3",
   "language": "python",
   "name": "python3"
  },
  "language_info": {
   "codemirror_mode": {
    "name": "ipython",
    "version": 3
   },
   "file_extension": ".py",
   "mimetype": "text/x-python",
   "name": "python",
   "nbconvert_exporter": "python",
   "pygments_lexer": "ipython3",
   "version": "3.10.10"
  }
 },
 "nbformat": 4,
 "nbformat_minor": 2
}
